{
  "nbformat": 4,
  "nbformat_minor": 0,
  "metadata": {
    "colab": {
      "provenance": []
    },
    "kernelspec": {
      "name": "python3",
      "display_name": "Python 3"
    },
    "language_info": {
      "name": "python"
    }
  },
  "cells": [
    {
      "cell_type": "code",
      "execution_count": null,
      "metadata": {
        "id": "Ffj-1mCf9YD8"
      },
      "outputs": [],
      "source": [
        "# Import necessary libraries\n",
        "import numpy as np\n",
        "import pandas as pd\n",
        "import os\n",
        "import cv2\n",
        "from tensorflow.keras.preprocessing.text import Tokenizer\n",
        "from tensorflow.keras.preprocessing.sequence import pad_sequences\n",
        "from tensorflow.keras.applications import VGG16\n",
        "from tensorflow.keras.models import Model\n",
        "from tensorflow.keras.layers import Dense, LSTM, Embedding, Input, Concatenate, Flatten\n",
        "from google.colab import drive\n",
        "from sklearn.metrics import precision_score, recall_score, f1_score\n",
        "import tensorflow as tf"
      ]
    },
    {
      "cell_type": "code",
      "source": [
        "# Mount Google Drive\n",
        "drive.mount('/content/drive')"
      ],
      "metadata": {
        "colab": {
          "base_uri": "https://localhost:8080/"
        },
        "id": "1Y0kobKe9pPp",
        "outputId": "82b55b38-4bdf-4345-d262-6a59d6659b7c",
        "collapsed": true
      },
      "execution_count": null,
      "outputs": [
        {
          "output_type": "stream",
          "name": "stdout",
          "text": [
            "Drive already mounted at /content/drive; to attempt to forcibly remount, call drive.mount(\"/content/drive\", force_remount=True).\n"
          ]
        }
      ]
    },
    {
      "cell_type": "code",
      "source": [
        "# Paths to your dataset in Google Drive\n",
        "video_folder = '/content/drive/MyDrive/RealLifeDeceptionDetection.2016/Real-life_Deception_Detection_2016/Clips'\n",
        "transcription_folder = '/content/drive/MyDrive/RealLifeDeceptionDetection.2016/Real-life_Deception_Detection_2016/Transcription'\n",
        "gesture_annotation_file = '/content/drive/MyDrive/RealLifeDeceptionDetection.2016/Real-life_Deception_Detection_2016/Annotation/All_Gestures_Deceptive and Truthful.csv'"
      ],
      "metadata": {
        "id": "LJsVaNgf9xSa",
        "collapsed": true
      },
      "execution_count": null,
      "outputs": []
    },
    {
      "cell_type": "code",
      "source": [
        "# Load gesture annotations\n",
        "gesture_annotations = pd.read_csv(gesture_annotation_file)\n",
        "\n",
        "# Inspect the columns of the gesture_annotations DataFrame\n",
        "print(gesture_annotations.columns)"
      ],
      "metadata": {
        "colab": {
          "base_uri": "https://localhost:8080/"
        },
        "id": "0-bVnpbwItwR",
        "outputId": "0314101e-7e5d-48cd-f79e-9c273dbe81b0"
      },
      "execution_count": null,
      "outputs": [
        {
          "output_type": "stream",
          "name": "stdout",
          "text": [
            "Index(['id', 'OtherGestures', 'Smile', 'Laugh', 'Scowl',\n",
            "       'otherEyebrowMovement', 'Frown', 'Raise', 'OtherEyeMovements',\n",
            "       'Close-R', 'X-Open', 'Close-BE', 'gazeInterlocutor', 'gazeDown',\n",
            "       'gazeUp', 'otherGaze', 'gazeSide', 'openMouth', 'closeMouth',\n",
            "       'lipsDown', 'lipsUp', 'lipsRetracted', 'lipsProtruded', 'SideTurn',\n",
            "       'downR', 'sideTilt', 'backHead', 'otherHeadM', 'sideTurnR', 'sideTiltR',\n",
            "       'waggle', 'forwardHead', 'downRHead', 'singleHand', 'bothHands',\n",
            "       'otherHandM', 'complexHandM', 'sidewaysHand', 'downHands', 'upHands',\n",
            "       'class'],\n",
            "      dtype='object')\n"
          ]
        }
      ]
    },
    {
      "cell_type": "code",
      "source": [
        "# Assuming the first column is the clip ID, and the last column is the label\n",
        "clip_id_column = gesture_annotations.columns[0]\n",
        "label_column = gesture_annotations.columns[-1]\n",
        "\n",
        "# Initialize pre-trained CNN for video feature extraction\n",
        "cnn_model = VGG16(weights='imagenet', include_top=False)\n",
        "cnn_model = Model(inputs=cnn_model.input, outputs=Flatten()(cnn_model.output))"
      ],
      "metadata": {
        "colab": {
          "base_uri": "https://localhost:8080/"
        },
        "id": "13jnVFhGIeQz",
        "outputId": "90b36e51-def8-4df7-b8b0-df1aa269dd6d"
      },
      "execution_count": null,
      "outputs": [
        {
          "output_type": "stream",
          "name": "stdout",
          "text": [
            "Downloading data from https://storage.googleapis.com/tensorflow/keras-applications/vgg16/vgg16_weights_tf_dim_ordering_tf_kernels_notop.h5\n",
            "58889256/58889256 [==============================] - 3s 0us/step\n"
          ]
        }
      ]
    },
    {
      "cell_type": "code",
      "source": [
        "# Function to extract video features\n",
        "def extract_video_features(video_path, cnn_model, fixed_frame_count=30):\n",
        "    cap = cv2.VideoCapture(video_path)\n",
        "    frames = []\n",
        "    count = 0\n",
        "\n",
        "    if not cap.isOpened():\n",
        "        print(f\"Error: Could not open video file {video_path}\")\n",
        "        return None\n",
        "\n",
        "    while cap.isOpened() and count < fixed_frame_count:\n",
        "        ret, frame = cap.read()\n",
        "        if not ret:\n",
        "            break\n",
        "        frame = cv2.resize(frame, (224, 224))  # Resize frame to fit VGG16 input\n",
        "        frames.append(frame)\n",
        "        count += 1\n",
        "\n",
        "    cap.release()\n",
        "\n",
        "    if len(frames) == 0:\n",
        "        print(f\"Error: No frames extracted from video file {video_path}\")\n",
        "        return None\n",
        "\n",
        "    # Pad frames if less than fixed_frame_count\n",
        "    while len(frames) < fixed_frame_count:\n",
        "        frames.append(np.zeros((224, 224, 3), dtype='float32'))\n",
        "\n",
        "    frames = np.array(frames)\n",
        "\n",
        "    # Preprocess frames for VGG16\n",
        "    frames = frames.astype('float32')\n",
        "    frames = frames / 255.0  # Normalize pixel values\n",
        "\n",
        "    # Extract features using the CNN\n",
        "    features = cnn_model.predict(frames)\n",
        "\n",
        "    # Average features across frames\n",
        "    video_features = np.mean(features, axis=0)\n",
        "\n",
        "    return video_features"
      ],
      "metadata": {
        "id": "ZwcbTrTZ94hz"
      },
      "execution_count": null,
      "outputs": []
    },
    {
      "cell_type": "code",
      "source": [
        "# Function to load and preprocess text data\n",
        "def load_and_preprocess_text(transcription_path):\n",
        "    if not os.path.exists(transcription_path):\n",
        "        print(f\"Error: Transcription file {transcription_path} does not exist.\")\n",
        "        return \"\"\n",
        "\n",
        "    with open(transcription_path, 'r') as file:\n",
        "        text = file.read()\n",
        "    return text"
      ],
      "metadata": {
        "id": "6LENewHBvEvr"
      },
      "execution_count": null,
      "outputs": []
    },
    {
      "cell_type": "code",
      "source": [
        "# Initialize lists for dataset\n",
        "video_features = []\n",
        "text_data = []\n",
        "gesture_data = []\n",
        "labels = []"
      ],
      "metadata": {
        "id": "3NWL6jj-vMQZ"
      },
      "execution_count": null,
      "outputs": []
    },
    {
      "cell_type": "code",
      "source": [
        "# Load dataset\n",
        "for idx, row in gesture_annotations.iterrows():\n",
        "    clip_id = row[clip_id_column]\n",
        "    video_file = os.path.join(video_folder, clip_id)\n",
        "    transcription_file = os.path.join(transcription_folder, clip_id.replace('.mp4', '.txt'))\n",
        "\n",
        "    # Extract video features\n",
        "    video_feat = extract_video_features(video_file, cnn_model)\n",
        "    if video_feat is not None:\n",
        "        video_features.append(video_feat)\n",
        "    else:\n",
        "        print(f\"Skipping {video_file} due to extraction issues.\")\n",
        "        continue\n",
        "\n",
        "    # Load and preprocess text\n",
        "    text = load_and_preprocess_text(transcription_file)\n",
        "    if text:\n",
        "        text_data.append(text)\n",
        "    else:\n",
        "        print(f\"Skipping {transcription_file} due to loading issues.\")\n",
        "        continue\n",
        "\n",
        "    # Get gesture data\n",
        "    gestures = row[1:-1].values  # Adjust index slicing if necessary\n",
        "    gesture_data.append(gestures)\n",
        "\n",
        "    # Get label\n",
        "    label = row[label_column]\n",
        "    labels.append(label)\n",
        "\n",
        "# Ensure all entries in text_data are strings\n",
        "text_data = [str(text) for text in text_data]\n"
      ],
      "metadata": {
        "colab": {
          "base_uri": "https://localhost:8080/"
        },
        "id": "_uRFdDhYvP4B",
        "outputId": "4df97580-41ab-4c7a-fe95-1c3d36bd626e",
        "collapsed": true
      },
      "execution_count": null,
      "outputs": [
        {
          "output_type": "stream",
          "name": "stdout",
          "text": [
            "1/1 [==============================] - 19s 19s/step\n",
            "1/1 [==============================] - 17s 17s/step\n",
            "1/1 [==============================] - 16s 16s/step\n",
            "1/1 [==============================] - 18s 18s/step\n",
            "1/1 [==============================] - 18s 18s/step\n",
            "1/1 [==============================] - 19s 19s/step\n",
            "1/1 [==============================] - 17s 17s/step\n",
            "1/1 [==============================] - 17s 17s/step\n",
            "1/1 [==============================] - 17s 17s/step\n",
            "1/1 [==============================] - 16s 16s/step\n",
            "1/1 [==============================] - 16s 16s/step\n",
            "1/1 [==============================] - 16s 16s/step\n",
            "1/1 [==============================] - 16s 16s/step\n",
            "1/1 [==============================] - 16s 16s/step\n",
            "1/1 [==============================] - 16s 16s/step\n",
            "1/1 [==============================] - 16s 16s/step\n",
            "1/1 [==============================] - 23s 23s/step\n",
            "1/1 [==============================] - 17s 17s/step\n",
            "1/1 [==============================] - 16s 16s/step\n",
            "1/1 [==============================] - 16s 16s/step\n",
            "1/1 [==============================] - 17s 17s/step\n",
            "1/1 [==============================] - 17s 17s/step\n",
            "1/1 [==============================] - 17s 17s/step\n",
            "1/1 [==============================] - 16s 16s/step\n",
            "1/1 [==============================] - 17s 17s/step\n",
            "1/1 [==============================] - 16s 16s/step\n",
            "1/1 [==============================] - 17s 17s/step\n",
            "1/1 [==============================] - 19s 19s/step\n",
            "1/1 [==============================] - 16s 16s/step\n",
            "1/1 [==============================] - 16s 16s/step\n",
            "1/1 [==============================] - 17s 17s/step\n",
            "1/1 [==============================] - 16s 16s/step\n",
            "1/1 [==============================] - 16s 16s/step\n",
            "1/1 [==============================] - 17s 17s/step\n",
            "1/1 [==============================] - 16s 16s/step\n",
            "1/1 [==============================] - 16s 16s/step\n",
            "1/1 [==============================] - 17s 17s/step\n",
            "1/1 [==============================] - 16s 16s/step\n",
            "1/1 [==============================] - 16s 16s/step\n",
            "1/1 [==============================] - 18s 18s/step\n",
            "1/1 [==============================] - 16s 16s/step\n",
            "1/1 [==============================] - 16s 16s/step\n",
            "1/1 [==============================] - 16s 16s/step\n",
            "1/1 [==============================] - 16s 16s/step\n",
            "1/1 [==============================] - 17s 17s/step\n",
            "1/1 [==============================] - 22s 22s/step\n",
            "1/1 [==============================] - 17s 17s/step\n",
            "1/1 [==============================] - 16s 16s/step\n",
            "1/1 [==============================] - 17s 17s/step\n",
            "1/1 [==============================] - 16s 16s/step\n",
            "Error: Could not open video file /content/drive/MyDrive/RealLifeDeceptionDetection.2016/Real-life_Deception_Detection_2016/Clips/trial_lie_051.mp4\n",
            "Skipping /content/drive/MyDrive/RealLifeDeceptionDetection.2016/Real-life_Deception_Detection_2016/Clips/trial_lie_051.mp4 due to extraction issues.\n",
            "Error: Could not open video file /content/drive/MyDrive/RealLifeDeceptionDetection.2016/Real-life_Deception_Detection_2016/Clips/trial_lie_052.mp4\n",
            "Skipping /content/drive/MyDrive/RealLifeDeceptionDetection.2016/Real-life_Deception_Detection_2016/Clips/trial_lie_052.mp4 due to extraction issues.\n",
            "Error: Could not open video file /content/drive/MyDrive/RealLifeDeceptionDetection.2016/Real-life_Deception_Detection_2016/Clips/trial_lie_053.mp4\n",
            "Skipping /content/drive/MyDrive/RealLifeDeceptionDetection.2016/Real-life_Deception_Detection_2016/Clips/trial_lie_053.mp4 due to extraction issues.\n",
            "Error: Could not open video file /content/drive/MyDrive/RealLifeDeceptionDetection.2016/Real-life_Deception_Detection_2016/Clips/trial_lie_054.mp4\n",
            "Skipping /content/drive/MyDrive/RealLifeDeceptionDetection.2016/Real-life_Deception_Detection_2016/Clips/trial_lie_054.mp4 due to extraction issues.\n",
            "Error: Could not open video file /content/drive/MyDrive/RealLifeDeceptionDetection.2016/Real-life_Deception_Detection_2016/Clips/trial_lie_055.mp4\n",
            "Skipping /content/drive/MyDrive/RealLifeDeceptionDetection.2016/Real-life_Deception_Detection_2016/Clips/trial_lie_055.mp4 due to extraction issues.\n",
            "Error: Could not open video file /content/drive/MyDrive/RealLifeDeceptionDetection.2016/Real-life_Deception_Detection_2016/Clips/trial_lie_056.mp4\n",
            "Skipping /content/drive/MyDrive/RealLifeDeceptionDetection.2016/Real-life_Deception_Detection_2016/Clips/trial_lie_056.mp4 due to extraction issues.\n",
            "Error: Could not open video file /content/drive/MyDrive/RealLifeDeceptionDetection.2016/Real-life_Deception_Detection_2016/Clips/trial_lie_057.mp4\n",
            "Skipping /content/drive/MyDrive/RealLifeDeceptionDetection.2016/Real-life_Deception_Detection_2016/Clips/trial_lie_057.mp4 due to extraction issues.\n",
            "Error: Could not open video file /content/drive/MyDrive/RealLifeDeceptionDetection.2016/Real-life_Deception_Detection_2016/Clips/trial_lie_058.mp4\n",
            "Skipping /content/drive/MyDrive/RealLifeDeceptionDetection.2016/Real-life_Deception_Detection_2016/Clips/trial_lie_058.mp4 due to extraction issues.\n",
            "Error: Could not open video file /content/drive/MyDrive/RealLifeDeceptionDetection.2016/Real-life_Deception_Detection_2016/Clips/trial_lie_059.mp4\n",
            "Skipping /content/drive/MyDrive/RealLifeDeceptionDetection.2016/Real-life_Deception_Detection_2016/Clips/trial_lie_059.mp4 due to extraction issues.\n",
            "Error: Could not open video file /content/drive/MyDrive/RealLifeDeceptionDetection.2016/Real-life_Deception_Detection_2016/Clips/trial_lie_060.mp4\n",
            "Skipping /content/drive/MyDrive/RealLifeDeceptionDetection.2016/Real-life_Deception_Detection_2016/Clips/trial_lie_060.mp4 due to extraction issues.\n",
            "Error: Could not open video file /content/drive/MyDrive/RealLifeDeceptionDetection.2016/Real-life_Deception_Detection_2016/Clips/trial_lie_061.mp4\n",
            "Skipping /content/drive/MyDrive/RealLifeDeceptionDetection.2016/Real-life_Deception_Detection_2016/Clips/trial_lie_061.mp4 due to extraction issues.\n",
            "1/1 [==============================] - 16s 16s/step\n",
            "1/1 [==============================] - 19s 19s/step\n",
            "1/1 [==============================] - 16s 16s/step\n",
            "1/1 [==============================] - 17s 17s/step\n",
            "1/1 [==============================] - 16s 16s/step\n",
            "1/1 [==============================] - 16s 16s/step\n",
            "1/1 [==============================] - 16s 16s/step\n",
            "1/1 [==============================] - 17s 17s/step\n",
            "1/1 [==============================] - 16s 16s/step\n",
            "1/1 [==============================] - 16s 16s/step\n",
            "1/1 [==============================] - 16s 16s/step\n",
            "1/1 [==============================] - 16s 16s/step\n",
            "1/1 [==============================] - 17s 17s/step\n",
            "1/1 [==============================] - 16s 16s/step\n",
            "1/1 [==============================] - 19s 19s/step\n",
            "1/1 [==============================] - 16s 16s/step\n",
            "1/1 [==============================] - 17s 17s/step\n",
            "1/1 [==============================] - 16s 16s/step\n",
            "1/1 [==============================] - 16s 16s/step\n",
            "1/1 [==============================] - 16s 16s/step\n",
            "1/1 [==============================] - 17s 17s/step\n",
            "1/1 [==============================] - 16s 16s/step\n",
            "1/1 [==============================] - 17s 17s/step\n",
            "1/1 [==============================] - 16s 16s/step\n",
            "1/1 [==============================] - 16s 16s/step\n",
            "1/1 [==============================] - 16s 16s/step\n",
            "1/1 [==============================] - 16s 16s/step\n",
            "1/1 [==============================] - 18s 18s/step\n",
            "1/1 [==============================] - 16s 16s/step\n",
            "1/1 [==============================] - 17s 17s/step\n",
            "1/1 [==============================] - 16s 16s/step\n",
            "1/1 [==============================] - 17s 17s/step\n",
            "1/1 [==============================] - 16s 16s/step\n",
            "1/1 [==============================] - 17s 17s/step\n",
            "1/1 [==============================] - 16s 16s/step\n",
            "1/1 [==============================] - 20s 20s/step\n",
            "1/1 [==============================] - 18s 18s/step\n",
            "1/1 [==============================] - 16s 16s/step\n",
            "1/1 [==============================] - 16s 16s/step\n",
            "1/1 [==============================] - 18s 18s/step\n",
            "1/1 [==============================] - 16s 16s/step\n",
            "1/1 [==============================] - 16s 16s/step\n",
            "1/1 [==============================] - 17s 17s/step\n",
            "1/1 [==============================] - 16s 16s/step\n",
            "1/1 [==============================] - 17s 17s/step\n",
            "1/1 [==============================] - 16s 16s/step\n",
            "1/1 [==============================] - 17s 17s/step\n",
            "1/1 [==============================] - 16s 16s/step\n",
            "1/1 [==============================] - 16s 16s/step\n",
            "1/1 [==============================] - 16s 16s/step\n",
            "Error: Could not open video file /content/drive/MyDrive/RealLifeDeceptionDetection.2016/Real-life_Deception_Detection_2016/Clips/trial_truth_051.mp4\n",
            "Skipping /content/drive/MyDrive/RealLifeDeceptionDetection.2016/Real-life_Deception_Detection_2016/Clips/trial_truth_051.mp4 due to extraction issues.\n",
            "Error: Could not open video file /content/drive/MyDrive/RealLifeDeceptionDetection.2016/Real-life_Deception_Detection_2016/Clips/trial_truth_052.mp4\n",
            "Skipping /content/drive/MyDrive/RealLifeDeceptionDetection.2016/Real-life_Deception_Detection_2016/Clips/trial_truth_052.mp4 due to extraction issues.\n",
            "Error: Could not open video file /content/drive/MyDrive/RealLifeDeceptionDetection.2016/Real-life_Deception_Detection_2016/Clips/trial_truth_053.mp4\n",
            "Skipping /content/drive/MyDrive/RealLifeDeceptionDetection.2016/Real-life_Deception_Detection_2016/Clips/trial_truth_053.mp4 due to extraction issues.\n",
            "Error: Could not open video file /content/drive/MyDrive/RealLifeDeceptionDetection.2016/Real-life_Deception_Detection_2016/Clips/trial_truth_054.mp4\n",
            "Skipping /content/drive/MyDrive/RealLifeDeceptionDetection.2016/Real-life_Deception_Detection_2016/Clips/trial_truth_054.mp4 due to extraction issues.\n",
            "Error: Could not open video file /content/drive/MyDrive/RealLifeDeceptionDetection.2016/Real-life_Deception_Detection_2016/Clips/trial_truth_055.mp4\n",
            "Skipping /content/drive/MyDrive/RealLifeDeceptionDetection.2016/Real-life_Deception_Detection_2016/Clips/trial_truth_055.mp4 due to extraction issues.\n",
            "Error: Could not open video file /content/drive/MyDrive/RealLifeDeceptionDetection.2016/Real-life_Deception_Detection_2016/Clips/trial_truth_056.mp4\n",
            "Skipping /content/drive/MyDrive/RealLifeDeceptionDetection.2016/Real-life_Deception_Detection_2016/Clips/trial_truth_056.mp4 due to extraction issues.\n",
            "Error: Could not open video file /content/drive/MyDrive/RealLifeDeceptionDetection.2016/Real-life_Deception_Detection_2016/Clips/trial_truth_057.mp4\n",
            "Skipping /content/drive/MyDrive/RealLifeDeceptionDetection.2016/Real-life_Deception_Detection_2016/Clips/trial_truth_057.mp4 due to extraction issues.\n",
            "Error: Could not open video file /content/drive/MyDrive/RealLifeDeceptionDetection.2016/Real-life_Deception_Detection_2016/Clips/trial_truth_058.mp4\n",
            "Skipping /content/drive/MyDrive/RealLifeDeceptionDetection.2016/Real-life_Deception_Detection_2016/Clips/trial_truth_058.mp4 due to extraction issues.\n",
            "Error: Could not open video file /content/drive/MyDrive/RealLifeDeceptionDetection.2016/Real-life_Deception_Detection_2016/Clips/trial_truth_059.mp4\n",
            "Skipping /content/drive/MyDrive/RealLifeDeceptionDetection.2016/Real-life_Deception_Detection_2016/Clips/trial_truth_059.mp4 due to extraction issues.\n",
            "Error: Could not open video file /content/drive/MyDrive/RealLifeDeceptionDetection.2016/Real-life_Deception_Detection_2016/Clips/trial_truth_060.mp4\n",
            "Skipping /content/drive/MyDrive/RealLifeDeceptionDetection.2016/Real-life_Deception_Detection_2016/Clips/trial_truth_060.mp4 due to extraction issues.\n"
          ]
        }
      ]
    },
    {
      "cell_type": "code",
      "source": [
        "# Convert string labels to integers\n",
        "label_map = {'deceptive': 0, 'truthful': 1}\n",
        "labels = [label_map[label] for label in labels]\n",
        "# Convert lists to numpy arrays if they are not empty\n",
        "if len(video_features) > 0:\n",
        "    video_features = np.array(video_features, dtype='float32')\n",
        "if len(gesture_data) > 0:\n",
        "    gesture_data = np.array(gesture_data, dtype='float32')\n",
        "if len(labels) > 0:\n",
        "    labels = np.array(labels, dtype='int32')"
      ],
      "metadata": {
        "id": "lPRaaemN7aYO"
      },
      "execution_count": null,
      "outputs": []
    },
    {
      "cell_type": "code",
      "source": [
        "# Tokenize and pad text data\n",
        "tokenizer = Tokenizer()\n",
        "tokenizer.fit_on_texts(text_data)\n",
        "sequences = tokenizer.texts_to_sequences(text_data)\n",
        "word_index = tokenizer.word_index\n",
        "text_data = pad_sequences(sequences, maxlen=100)  # MAX_SEQUENCE_LENGTH\n",
        "text_data = np.array(text_data, dtype='float32')"
      ],
      "metadata": {
        "id": "YEbwlm4J8AXv"
      },
      "execution_count": null,
      "outputs": []
    },
    {
      "cell_type": "code",
      "source": [
        "# Check shapes and data types\n",
        "print(\"Video features shape:\", video_features.shape, \"dtype:\", video_features.dtype)\n",
        "print(\"Text data shape:\", text_data.shape, \"dtype:\", text_data.dtype)\n",
        "print(\"Gesture data shape:\", gesture_data.shape, \"dtype:\", gesture_data.dtype)\n",
        "print(\"Labels shape:\", labels.shape, \"dtype:\", labels.dtype)"
      ],
      "metadata": {
        "colab": {
          "base_uri": "https://localhost:8080/"
        },
        "id": "w-ID8N6w8EfH",
        "outputId": "9f834338-db83-4179-e96c-9ab311ec3137"
      },
      "execution_count": null,
      "outputs": [
        {
          "output_type": "stream",
          "name": "stdout",
          "text": [
            "Video features shape: (100, 25088) dtype: float32\n",
            "Text data shape: (100, 100) dtype: float32\n",
            "Gesture data shape: (100, 39) dtype: float32\n",
            "Labels shape: (100,) dtype: int32\n"
          ]
        }
      ]
    },
    {
      "cell_type": "code",
      "source": [
        "# Simplified model for initial testing\n",
        "text_input = Input(shape=(100,), name='text_input')  # MAX_SEQUENCE_LENGTH\n",
        "embedding = Embedding(len(word_index) + 1, 100)(text_input)  # EMBEDDING_DIM\n",
        "rnn_output = LSTM(128)(embedding)\n",
        "gesture_input = Input(shape=(gesture_data.shape[1],), name='gesture_input')\n",
        "video_input = Input(shape=(video_features.shape[1],), name='video_input')\n",
        "\n",
        "merged = Concatenate()([video_input, rnn_output, gesture_input])\n",
        "dense = Dense(128, activation='relu')(merged)\n",
        "output = Dense(2, activation='softmax')(dense)  # NUM_CLASSES\n",
        "\n",
        "model = Model(inputs=[video_input, text_input, gesture_input], outputs=output)\n",
        "model.compile(optimizer='adam', loss='sparse_categorical_crossentropy', metrics=['accuracy'])\n",
        "\n",
        "model.summary()"
      ],
      "metadata": {
        "colab": {
          "base_uri": "https://localhost:8080/"
        },
        "id": "rw38TRE-8IiF",
        "outputId": "5f42dc7e-ffc4-426e-acd3-d83a5da943a9"
      },
      "execution_count": null,
      "outputs": [
        {
          "output_type": "stream",
          "name": "stdout",
          "text": [
            "Model: \"model_1\"\n",
            "__________________________________________________________________________________________________\n",
            " Layer (type)                Output Shape                 Param #   Connected to                  \n",
            "==================================================================================================\n",
            " text_input (InputLayer)     [(None, 100)]                0         []                            \n",
            "                                                                                                  \n",
            " embedding (Embedding)       (None, 100, 100)             133800    ['text_input[0][0]']          \n",
            "                                                                                                  \n",
            " video_input (InputLayer)    [(None, 25088)]              0         []                            \n",
            "                                                                                                  \n",
            " lstm (LSTM)                 (None, 128)                  117248    ['embedding[0][0]']           \n",
            "                                                                                                  \n",
            " gesture_input (InputLayer)  [(None, 39)]                 0         []                            \n",
            "                                                                                                  \n",
            " concatenate (Concatenate)   (None, 25255)                0         ['video_input[0][0]',         \n",
            "                                                                     'lstm[0][0]',                \n",
            "                                                                     'gesture_input[0][0]']       \n",
            "                                                                                                  \n",
            " dense (Dense)               (None, 128)                  3232768   ['concatenate[0][0]']         \n",
            "                                                                                                  \n",
            " dense_1 (Dense)             (None, 2)                    258       ['dense[0][0]']               \n",
            "                                                                                                  \n",
            "==================================================================================================\n",
            "Total params: 3484074 (13.29 MB)\n",
            "Trainable params: 3484074 (13.29 MB)\n",
            "Non-trainable params: 0 (0.00 Byte)\n",
            "__________________________________________________________________________________________________\n"
          ]
        }
      ]
    },
    {
      "cell_type": "code",
      "source": [
        "# Example training (use actual data instead of placeholders)\n",
        "history=model.fit([video_features, text_data, gesture_data], labels, epochs=30, batch_size=32, validation_split=0.2)"
      ],
      "metadata": {
        "colab": {
          "base_uri": "https://localhost:8080/"
        },
        "id": "0ol4JZcx8QRN",
        "outputId": "2eb66362-4ef3-4c83-c9a1-48279bd317db"
      },
      "execution_count": null,
      "outputs": [
        {
          "output_type": "stream",
          "name": "stdout",
          "text": [
            "Epoch 1/30\n",
            "3/3 [==============================] - 1s 444ms/step - loss: 1.8654e-04 - accuracy: 1.0000 - val_loss: 2.2981 - val_accuracy: 0.5500\n",
            "Epoch 2/30\n",
            "3/3 [==============================] - 2s 638ms/step - loss: 1.7410e-04 - accuracy: 1.0000 - val_loss: 2.3235 - val_accuracy: 0.5500\n",
            "Epoch 3/30\n",
            "3/3 [==============================] - 1s 397ms/step - loss: 1.6337e-04 - accuracy: 1.0000 - val_loss: 2.3459 - val_accuracy: 0.5000\n",
            "Epoch 4/30\n",
            "3/3 [==============================] - 1s 476ms/step - loss: 1.5192e-04 - accuracy: 1.0000 - val_loss: 2.3631 - val_accuracy: 0.5000\n",
            "Epoch 5/30\n",
            "3/3 [==============================] - 1s 434ms/step - loss: 1.4269e-04 - accuracy: 1.0000 - val_loss: 2.3779 - val_accuracy: 0.5000\n",
            "Epoch 6/30\n",
            "3/3 [==============================] - 1s 171ms/step - loss: 1.3264e-04 - accuracy: 1.0000 - val_loss: 2.3945 - val_accuracy: 0.5000\n",
            "Epoch 7/30\n",
            "3/3 [==============================] - 1s 187ms/step - loss: 1.2450e-04 - accuracy: 1.0000 - val_loss: 2.4089 - val_accuracy: 0.5000\n",
            "Epoch 8/30\n",
            "3/3 [==============================] - 1s 190ms/step - loss: 1.1796e-04 - accuracy: 1.0000 - val_loss: 2.4299 - val_accuracy: 0.5000\n",
            "Epoch 9/30\n",
            "3/3 [==============================] - 1s 183ms/step - loss: 1.1133e-04 - accuracy: 1.0000 - val_loss: 2.4533 - val_accuracy: 0.5000\n",
            "Epoch 10/30\n",
            "3/3 [==============================] - 1s 184ms/step - loss: 1.0506e-04 - accuracy: 1.0000 - val_loss: 2.4793 - val_accuracy: 0.5000\n",
            "Epoch 11/30\n",
            "3/3 [==============================] - 1s 195ms/step - loss: 1.0009e-04 - accuracy: 1.0000 - val_loss: 2.5033 - val_accuracy: 0.5000\n",
            "Epoch 12/30\n",
            "3/3 [==============================] - 1s 169ms/step - loss: 9.4834e-05 - accuracy: 1.0000 - val_loss: 2.5238 - val_accuracy: 0.5000\n",
            "Epoch 13/30\n",
            "3/3 [==============================] - 1s 192ms/step - loss: 9.0820e-05 - accuracy: 1.0000 - val_loss: 2.5493 - val_accuracy: 0.5000\n",
            "Epoch 14/30\n",
            "3/3 [==============================] - 1s 174ms/step - loss: 8.7014e-05 - accuracy: 1.0000 - val_loss: 2.5742 - val_accuracy: 0.5000\n",
            "Epoch 15/30\n",
            "3/3 [==============================] - 1s 203ms/step - loss: 8.3070e-05 - accuracy: 1.0000 - val_loss: 2.5982 - val_accuracy: 0.5000\n",
            "Epoch 16/30\n",
            "3/3 [==============================] - 1s 167ms/step - loss: 7.9955e-05 - accuracy: 1.0000 - val_loss: 2.6239 - val_accuracy: 0.5000\n",
            "Epoch 17/30\n",
            "3/3 [==============================] - 1s 190ms/step - loss: 7.6569e-05 - accuracy: 1.0000 - val_loss: 2.6472 - val_accuracy: 0.5000\n",
            "Epoch 18/30\n",
            "3/3 [==============================] - 1s 184ms/step - loss: 7.3626e-05 - accuracy: 1.0000 - val_loss: 2.6734 - val_accuracy: 0.4500\n",
            "Epoch 19/30\n",
            "3/3 [==============================] - 1s 196ms/step - loss: 7.1145e-05 - accuracy: 1.0000 - val_loss: 2.6980 - val_accuracy: 0.4500\n",
            "Epoch 20/30\n",
            "3/3 [==============================] - 1s 168ms/step - loss: 6.8064e-05 - accuracy: 1.0000 - val_loss: 2.7224 - val_accuracy: 0.4500\n",
            "Epoch 21/30\n",
            "3/3 [==============================] - 1s 187ms/step - loss: 6.6057e-05 - accuracy: 1.0000 - val_loss: 2.7475 - val_accuracy: 0.4500\n",
            "Epoch 22/30\n",
            "3/3 [==============================] - 1s 174ms/step - loss: 6.2929e-05 - accuracy: 1.0000 - val_loss: 2.7709 - val_accuracy: 0.4500\n",
            "Epoch 23/30\n",
            "3/3 [==============================] - 1s 168ms/step - loss: 6.1224e-05 - accuracy: 1.0000 - val_loss: 2.7914 - val_accuracy: 0.4500\n",
            "Epoch 24/30\n",
            "3/3 [==============================] - 1s 244ms/step - loss: 5.8724e-05 - accuracy: 1.0000 - val_loss: 2.8112 - val_accuracy: 0.4500\n",
            "Epoch 25/30\n",
            "3/3 [==============================] - 1s 280ms/step - loss: 5.6691e-05 - accuracy: 1.0000 - val_loss: 2.8315 - val_accuracy: 0.4500\n",
            "Epoch 26/30\n",
            "3/3 [==============================] - 1s 312ms/step - loss: 5.5023e-05 - accuracy: 1.0000 - val_loss: 2.8550 - val_accuracy: 0.4000\n",
            "Epoch 27/30\n",
            "3/3 [==============================] - 1s 296ms/step - loss: 5.3024e-05 - accuracy: 1.0000 - val_loss: 2.8771 - val_accuracy: 0.4000\n",
            "Epoch 28/30\n",
            "3/3 [==============================] - 1s 341ms/step - loss: 5.1119e-05 - accuracy: 1.0000 - val_loss: 2.8953 - val_accuracy: 0.4000\n",
            "Epoch 29/30\n",
            "3/3 [==============================] - 1s 196ms/step - loss: 4.9590e-05 - accuracy: 1.0000 - val_loss: 2.9113 - val_accuracy: 0.4000\n",
            "Epoch 30/30\n",
            "3/3 [==============================] - 1s 189ms/step - loss: 4.7996e-05 - accuracy: 1.0000 - val_loss: 2.9301 - val_accuracy: 0.4000\n"
          ]
        }
      ]
    },
    {
      "cell_type": "code",
      "source": [
        "# Evaluate the model and calculate precision, recall, and f1 score\n",
        "from sklearn.metrics import accuracy_score\n",
        "def evaluate_model(model, video_features, text_data, gesture_data, labels):\n",
        "    predictions = model.predict([video_features, text_data, gesture_data])\n",
        "    y_pred = np.argmax(predictions, axis=1)\n",
        "    precision = precision_score(labels, y_pred, average='weighted')\n",
        "    recall = recall_score(labels, y_pred, average='weighted')\n",
        "    f1 = f1_score(labels, y_pred, average='weighted')\n",
        "    accuracy = accuracy_score(labels, y_pred) # Calculate accuracy\n",
        "    return precision, recall, f1, accuracy\n"
      ],
      "metadata": {
        "id": "1I_kUIbm8eMO"
      },
      "execution_count": null,
      "outputs": []
    },
    {
      "cell_type": "code",
      "source": [
        "precision, recall, f1, accuracy = evaluate_model(model, video_features, text_data, gesture_data, labels)\n",
        "print(f\"Accuracy: {accuracy}\")\n",
        "print(f\"Precision: {precision}\")\n",
        "print(f\"Recall: {recall}\")\n",
        "print(f\"F1 Score: {f1}\")"
      ],
      "metadata": {
        "colab": {
          "base_uri": "https://localhost:8080/"
        },
        "id": "jUcMLO6G8htd",
        "outputId": "74b000f0-dd67-4ee3-a123-847e8207ccb9"
      },
      "execution_count": null,
      "outputs": [
        {
          "output_type": "stream",
          "name": "stdout",
          "text": [
            "4/4 [==============================] - 1s 36ms/step\n",
            "Accuracy: 0.88\n",
            "Precision: 0.9032258064516128\n",
            "Recall: 0.88\n",
            "F1 Score: 0.8782467532467533\n"
          ]
        }
      ]
    },
    {
      "cell_type": "code",
      "source": [
        "import matplotlib.pyplot as plt\n",
        "print(history.history.keys())\n",
        "\n",
        "plt.plot(history.history['accuracy'], label='Accuracy')\n",
        "\n",
        "plt.xlabel('Epoch')\n",
        "plt.ylabel('Metric Value')\n",
        "plt.title('Model Performance Metrics')\n",
        "plt.legend()\n",
        "plt.grid(True)\n",
        "plt.show()"
      ],
      "metadata": {
        "colab": {
          "base_uri": "https://localhost:8080/",
          "height": 489
        },
        "id": "2UPlebom4Zak",
        "outputId": "68332d7a-4b62-45e2-fab7-e2b932142c30"
      },
      "execution_count": null,
      "outputs": [
        {
          "output_type": "stream",
          "name": "stdout",
          "text": [
            "dict_keys(['loss', 'accuracy', 'val_loss', 'val_accuracy'])\n"
          ]
        },
        {
          "output_type": "display_data",
          "data": {
            "text/plain": [
              "<Figure size 640x480 with 1 Axes>"
            ],
            "image/png": "[encoded data removed]"
          },
          "metadata": {}
        }
      ]
    }
  ]
}